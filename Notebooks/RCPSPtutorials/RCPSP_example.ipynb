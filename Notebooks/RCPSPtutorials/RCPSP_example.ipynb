{
 "cells": [
  {
   "cell_type": "code",
   "execution_count": null,
   "id": "0eb2dfbd",
   "metadata": {},
   "outputs": [],
   "source": [
    "import os\n",
    "workingDirInit = os.getcwd()\n",
    "workingDir = workingDirInit\n",
    "parentDir = ((os.path.dirname(os.path.dirname(os.path.abspath(''))))) # ../../../\n",
    "print('working dir ' + workingDir)\n",
    "print('path dir ' + parentDir)"
   ]
  },
  {
   "cell_type": "code",
   "execution_count": null,
   "id": "a703acb5",
   "metadata": {},
   "outputs": [],
   "source": [
    "import sys\n",
    "sys.path\n",
    "sys.path.append(parentDir)\n",
    "print(sys.path)"
   ]
  },
  {
   "cell_type": "code",
   "execution_count": null,
   "id": "5e27cdd8",
   "metadata": {},
   "outputs": [],
   "source": [
    "import matplotlib.pyplot as plt\n",
    "plt.rcParams['svg.fonttype'] = 'none'"
   ]
  },
  {
   "cell_type": "code",
   "execution_count": null,
   "id": "cbae7a02",
   "metadata": {},
   "outputs": [],
   "source": [
    "# %run -i \"rcpsp_calendar_examples.py\"\n",
    "import logging\n",
    "import os\n",
    "import glob\n",
    "import time\n",
    "import nest_asyncio\n",
    "from skdecide import rollout_episode\n",
    "\n",
    "from Code.rcpsp_calendar import parse_file\n",
    "from Code.rcpsp_calendar_utils import (plot_resource_individual_gantt,\n",
    "                                       plot_ressource_view, plot_task_gantt,\n",
    "                                       save_task_gantt_resolution)\n",
    "from Code.rcpsp_datasets import get_complete_path\n",
    "\n",
    "from discrete_optimization.generic_tools.ea.ga import (\n",
    "    DeapCrossover,\n",
    "    DeapMutation,\n",
    "    Ga,\n",
    "    ObjectiveHandling,\n",
    ")\n",
    "\n",
    "\n",
    "nest_asyncio.apply()\n",
    "\n",
    "\n",
    "logging.basicConfig(level=logging.INFO)\n",
    "\n",
    "fig1 =None\n",
    "fig2 =None\n",
    "fig3 =None"
   ]
  },
  {
   "cell_type": "code",
   "execution_count": null,
   "id": "ebfc7b2d",
   "metadata": {},
   "outputs": [],
   "source": [
    "# def do_singlemode_ga_calendar(file_name):\n",
    "#     global fig1, fig2, fig3\n",
    "file_name = \"j301_1_calendar.sm\"\n",
    "problem = parse_file(get_complete_path(file_name))\n",
    "\n",
    "mutation = DeapMutation.MUT_SHUFFLE_INDEXES\n",
    "crossover = DeapCrossover.CX_UNIFORM_PARTIALY_MATCHED\n",
    "ga_solver = Ga(\n",
    "    problem,\n",
    "    encoding=\"rcpsp_permutation\",\n",
    "    objective_handling=ObjectiveHandling.AGGREGATE,\n",
    "    objectives=[\"makespan\"],\n",
    "    objective_weights=[-1],\n",
    "    pop_size=50,\n",
    "    max_evals=300,\n",
    "    mut_rate=0.1,\n",
    "    crossover_rate=0.9,\n",
    "    crossover=crossover,\n",
    "    mutation=mutation,\n",
    ")\n",
    "results_ga = ga_solver.solve()\n",
    "solution = results_ga.get_best_solution_fit()\n",
    "solution_gantt_df = save_task_gantt_resolution(problem, solution[0])\n",
    "print(solution_gantt_df)\n"
   ]
  },
  {
   "cell_type": "code",
   "execution_count": null,
   "id": "95769929",
   "metadata": {},
   "outputs": [],
   "source": [
    "%matplotlib notebook\n",
    "import matplotlib.pyplot as plt"
   ]
  },
  {
   "cell_type": "code",
   "execution_count": null,
   "id": "ccbdf717",
   "metadata": {
    "scrolled": false
   },
   "outputs": [],
   "source": [
    "%matplotlib notebook\n",
    "fig1 = plot_task_gantt(problem, solution[0], title=file_name, fig=fig1)"
   ]
  },
  {
   "cell_type": "code",
   "execution_count": null,
   "id": "d274ff46",
   "metadata": {
    "scrolled": false
   },
   "outputs": [],
   "source": [
    "%matplotlib notebook\n",
    "# Create the figure and axis\n",
    "fig2 = plot_ressource_view(problem, solution[0],\n",
    "                           title_figure=file_name,\n",
    "                           fig=fig2)\n"
   ]
  },
  {
   "cell_type": "code",
   "execution_count": null,
   "id": "4af439c3",
   "metadata": {
    "scrolled": false
   },
   "outputs": [],
   "source": [
    "%matplotlib notebook\n",
    "fig3 = plot_resource_individual_gantt(problem, solution[0],\n",
    "                                      title_figure=file_name,\n",
    "                                      fig=fig3)\n"
   ]
  },
  {
   "cell_type": "code",
   "execution_count": null,
   "id": "7b4f7abd",
   "metadata": {},
   "outputs": [],
   "source": [
    "fig3.savefig(\"filepath.svg\", format = 'svg', dpi=3000)"
   ]
  },
  {
   "cell_type": "markdown",
   "id": "ea4ad038",
   "metadata": {},
   "source": [
    "## Read the backlog\n",
    "https://github.com/microsoft/azure-devops-python-api"
   ]
  },
  {
   "cell_type": "code",
   "execution_count": null,
   "id": "b75fc58d",
   "metadata": {},
   "outputs": [],
   "source": [
    "! pip install azure-devops"
   ]
  },
  {
   "cell_type": "code",
   "execution_count": 15,
   "id": "bbbaf6cb",
   "metadata": {},
   "outputs": [
    {
     "name": "stdout",
     "output_type": "stream",
     "text": [
      "[<azure.devops.v7_0.core.models.TeamProjectReference object at 0x0000025533EF6160>, <azure.devops.v7_0.core.models.TeamProjectReference object at 0x0000025533EF65E0>, <azure.devops.v7_0.core.models.TeamProjectReference object at 0x0000025533EF6D30>, <azure.devops.v7_0.core.models.TeamProjectReference object at 0x0000025533EF6550>, <azure.devops.v7_0.core.models.TeamProjectReference object at 0x0000025533EF6370>]\n",
      "'[0] DeustoCatedra'\n",
      "'[1] Merlin'\n",
      "'[2] Analytics'\n",
      "'[3] Lantek 360'\n",
      "'[4] CADCAM Cloud'\n"
     ]
    },
    {
     "ename": "AttributeError",
     "evalue": "'list' object has no attribute 'continuation_token'",
     "output_type": "error",
     "traceback": [
      "\u001b[1;31m---------------------------------------------------------------------------\u001b[0m",
      "\u001b[1;31mAttributeError\u001b[0m                            Traceback (most recent call last)",
      "Cell \u001b[1;32mIn[15], line 24\u001b[0m\n\u001b[0;32m     22\u001b[0m     pprint\u001b[39m.\u001b[39mpprint(\u001b[39m\"\u001b[39m\u001b[39m[\u001b[39m\u001b[39m\"\u001b[39m \u001b[39m+\u001b[39m \u001b[39mstr\u001b[39m(index) \u001b[39m+\u001b[39m \u001b[39m\"\u001b[39m\u001b[39m] \u001b[39m\u001b[39m\"\u001b[39m \u001b[39m+\u001b[39m project\u001b[39m.\u001b[39mname)\n\u001b[0;32m     23\u001b[0m     index \u001b[39m+\u001b[39m\u001b[39m=\u001b[39m \u001b[39m1\u001b[39m\n\u001b[1;32m---> 24\u001b[0m \u001b[39mif\u001b[39;00m get_projects_response\u001b[39m.\u001b[39;49mcontinuation_token \u001b[39mis\u001b[39;00m \u001b[39mnot\u001b[39;00m \u001b[39mNone\u001b[39;00m \u001b[39mand\u001b[39;00m get_projects_response\u001b[39m.\u001b[39mcontinuation_token \u001b[39m!=\u001b[39m \u001b[39m\"\u001b[39m\u001b[39m\"\u001b[39m:\n\u001b[0;32m     25\u001b[0m     \u001b[39m# Get the next page of projects\u001b[39;00m\n\u001b[0;32m     26\u001b[0m     get_projects_response \u001b[39m=\u001b[39m core_client\u001b[39m.\u001b[39mget_projects(continuation_token\u001b[39m=\u001b[39mget_projects_response\u001b[39m.\u001b[39mcontinuation_token)\n\u001b[0;32m     27\u001b[0m \u001b[39melse\u001b[39;00m:\n\u001b[0;32m     28\u001b[0m     \u001b[39m# All projects have been retrieved\u001b[39;00m\n",
      "\u001b[1;31mAttributeError\u001b[0m: 'list' object has no attribute 'continuation_token'"
     ]
    }
   ],
   "source": [
    "from azure.devops.connection import Connection\n",
    "from msrest.authentication import BasicAuthentication\n",
    "import pprint\n",
    "\n",
    "# Fill in with your personal access token and org URL\n",
    "personal_access_token = 'hzakqwyey6gejkpooxbhkcbwp2jequiobwzzfyrtpqrxssd2thra'\n",
    "organization_url = 'https://dev.azure.com/lanteksms'\n",
    "\n",
    "# Create a connection to the org\n",
    "credentials = BasicAuthentication('', personal_access_token)\n",
    "connection = Connection(base_url=organization_url, creds=credentials)\n",
    "\n",
    "# Get a client (the \"core\" client provides access to projects, teams, etc)\n",
    "core_client = connection.clients.get_core_client()\n",
    "\n",
    "# Get the first page of projects\n",
    "get_projects_response = core_client.get_projects()\n",
    "print(get_projects_response)\n",
    "index = 0\n",
    "while get_projects_response is not None:\n",
    "    for project in get_projects_response:\n",
    "        pprint.pprint(\"[\" + str(index) + \"] \" + project.name)\n",
    "        index += 1\n",
    "    if get_projects_response.continuation_token is not None and get_projects_response.continuation_token != \"\":\n",
    "        # Get the next page of projects\n",
    "        get_projects_response = core_client.get_projects(continuation_token=get_projects_response.continuation_token)\n",
    "    else:\n",
    "        # All projects have been retrieved\n",
    "        get_projects_response = None"
   ]
  },
  {
   "cell_type": "code",
   "execution_count": 18,
   "id": "8b54fbad",
   "metadata": {},
   "outputs": [
    {
     "ename": "AzureDevOpsServiceError",
     "evalue": "TF401232: Work item 1862 does not exist, or you do not have permissions to read it.",
     "output_type": "error",
     "traceback": [
      "\u001b[1;31m---------------------------------------------------------------------------\u001b[0m",
      "\u001b[1;31mAzureDevOpsServiceError\u001b[0m                   Traceback (most recent call last)",
      "Cell \u001b[1;32mIn[18], line 22\u001b[0m\n\u001b[0;32m     19\u001b[0m work_item_ids \u001b[39m=\u001b[39m [\u001b[39m1862\u001b[39m]\n\u001b[0;32m     21\u001b[0m \u001b[39m# Get the work items\u001b[39;00m\n\u001b[1;32m---> 22\u001b[0m work_items \u001b[39m=\u001b[39m wit_client\u001b[39m.\u001b[39;49mget_work_items(ids\u001b[39m=\u001b[39;49mwork_item_ids)\n\u001b[0;32m     24\u001b[0m \u001b[39m# Print the ID and title of each work item\u001b[39;00m\n\u001b[0;32m     25\u001b[0m \u001b[39mprint\u001b[39m(\u001b[39m\"\u001b[39m\u001b[39mWork items:\u001b[39m\u001b[39m\"\u001b[39m)\n",
      "File \u001b[1;32mc:\\Users\\l.corzo\\AppData\\Local\\miniconda3\\envs\\rcpsp_code_env\\lib\\site-packages\\azure\\devops\\v7_0\\work_item_tracking\\work_item_tracking_client.py:1846\u001b[0m, in \u001b[0;36mWorkItemTrackingClient.get_work_items\u001b[1;34m(self, ids, project, fields, as_of, expand, error_policy)\u001b[0m\n\u001b[0;32m   1844\u001b[0m \u001b[39mif\u001b[39;00m error_policy \u001b[39mis\u001b[39;00m \u001b[39mnot\u001b[39;00m \u001b[39mNone\u001b[39;00m:\n\u001b[0;32m   1845\u001b[0m     query_parameters[\u001b[39m'\u001b[39m\u001b[39merrorPolicy\u001b[39m\u001b[39m'\u001b[39m] \u001b[39m=\u001b[39m \u001b[39mself\u001b[39m\u001b[39m.\u001b[39m_serialize\u001b[39m.\u001b[39mquery(\u001b[39m'\u001b[39m\u001b[39merror_policy\u001b[39m\u001b[39m'\u001b[39m, error_policy, \u001b[39m'\u001b[39m\u001b[39mstr\u001b[39m\u001b[39m'\u001b[39m)\n\u001b[1;32m-> 1846\u001b[0m response \u001b[39m=\u001b[39m \u001b[39mself\u001b[39;49m\u001b[39m.\u001b[39;49m_send(http_method\u001b[39m=\u001b[39;49m\u001b[39m'\u001b[39;49m\u001b[39mGET\u001b[39;49m\u001b[39m'\u001b[39;49m,\n\u001b[0;32m   1847\u001b[0m                       location_id\u001b[39m=\u001b[39;49m\u001b[39m'\u001b[39;49m\u001b[39m72c7ddf8-2cdc-4f60-90cd-ab71c14a399b\u001b[39;49m\u001b[39m'\u001b[39;49m,\n\u001b[0;32m   1848\u001b[0m                       version\u001b[39m=\u001b[39;49m\u001b[39m'\u001b[39;49m\u001b[39m7.0\u001b[39;49m\u001b[39m'\u001b[39;49m,\n\u001b[0;32m   1849\u001b[0m                       route_values\u001b[39m=\u001b[39;49mroute_values,\n\u001b[0;32m   1850\u001b[0m                       query_parameters\u001b[39m=\u001b[39;49mquery_parameters)\n\u001b[0;32m   1851\u001b[0m \u001b[39mreturn\u001b[39;00m \u001b[39mself\u001b[39m\u001b[39m.\u001b[39m_deserialize(\u001b[39m'\u001b[39m\u001b[39m[WorkItem]\u001b[39m\u001b[39m'\u001b[39m, \u001b[39mself\u001b[39m\u001b[39m.\u001b[39m_unwrap_collection(response))\n",
      "File \u001b[1;32mc:\\Users\\l.corzo\\AppData\\Local\\miniconda3\\envs\\rcpsp_code_env\\lib\\site-packages\\azure\\devops\\client.py:104\u001b[0m, in \u001b[0;36mClient._send\u001b[1;34m(self, http_method, location_id, version, route_values, query_parameters, content, media_type, accept_media_type, additional_headers)\u001b[0m\n\u001b[0;32m    102\u001b[0m \u001b[39mif\u001b[39;00m Client\u001b[39m.\u001b[39m_session_header_key \u001b[39min\u001b[39;00m Client\u001b[39m.\u001b[39m_session_data \u001b[39mand\u001b[39;00m Client\u001b[39m.\u001b[39m_session_header_key \u001b[39mnot\u001b[39;00m \u001b[39min\u001b[39;00m headers:\n\u001b[0;32m    103\u001b[0m     headers[Client\u001b[39m.\u001b[39m_session_header_key] \u001b[39m=\u001b[39m Client\u001b[39m.\u001b[39m_session_data[Client\u001b[39m.\u001b[39m_session_header_key]\n\u001b[1;32m--> 104\u001b[0m response \u001b[39m=\u001b[39m \u001b[39mself\u001b[39;49m\u001b[39m.\u001b[39;49m_send_request(request\u001b[39m=\u001b[39;49mrequest, headers\u001b[39m=\u001b[39;49mheaders, content\u001b[39m=\u001b[39;49mcontent, media_type\u001b[39m=\u001b[39;49mmedia_type)\n\u001b[0;32m    105\u001b[0m \u001b[39mif\u001b[39;00m Client\u001b[39m.\u001b[39m_session_header_key \u001b[39min\u001b[39;00m response\u001b[39m.\u001b[39mheaders:\n\u001b[0;32m    106\u001b[0m     Client\u001b[39m.\u001b[39m_session_data[Client\u001b[39m.\u001b[39m_session_header_key] \u001b[39m=\u001b[39m response\u001b[39m.\u001b[39mheaders[Client\u001b[39m.\u001b[39m_session_header_key]\n",
      "File \u001b[1;32mc:\\Users\\l.corzo\\AppData\\Local\\miniconda3\\envs\\rcpsp_code_env\\lib\\site-packages\\azure\\devops\\client.py:68\u001b[0m, in \u001b[0;36mClient._send_request\u001b[1;34m(self, request, headers, content, media_type, **operation_config)\u001b[0m\n\u001b[0;32m     66\u001b[0m     logger\u001b[39m.\u001b[39mdebug(\u001b[39m'\u001b[39m\u001b[39mResponse content: \u001b[39m\u001b[39m%s\u001b[39;00m\u001b[39m'\u001b[39m, response\u001b[39m.\u001b[39mcontent)\n\u001b[0;32m     67\u001b[0m \u001b[39mif\u001b[39;00m response\u001b[39m.\u001b[39mstatus_code \u001b[39m<\u001b[39m \u001b[39m200\u001b[39m \u001b[39mor\u001b[39;00m response\u001b[39m.\u001b[39mstatus_code \u001b[39m>\u001b[39m\u001b[39m=\u001b[39m \u001b[39m300\u001b[39m:\n\u001b[1;32m---> 68\u001b[0m     \u001b[39mself\u001b[39;49m\u001b[39m.\u001b[39;49m_handle_error(request, response)\n\u001b[0;32m     69\u001b[0m \u001b[39mreturn\u001b[39;00m response\n",
      "File \u001b[1;32mc:\\Users\\l.corzo\\AppData\\Local\\miniconda3\\envs\\rcpsp_code_env\\lib\\site-packages\\azure\\devops\\client.py:270\u001b[0m, in \u001b[0;36mClient._handle_error\u001b[1;34m(self, request, response)\u001b[0m\n\u001b[0;32m    268\u001b[0m wrapped_exception \u001b[39m=\u001b[39m \u001b[39mself\u001b[39m\u001b[39m.\u001b[39m_base_deserialize(\u001b[39m'\u001b[39m\u001b[39mWrappedException\u001b[39m\u001b[39m'\u001b[39m, response)\n\u001b[0;32m    269\u001b[0m \u001b[39mif\u001b[39;00m wrapped_exception \u001b[39mis\u001b[39;00m \u001b[39mnot\u001b[39;00m \u001b[39mNone\u001b[39;00m \u001b[39mand\u001b[39;00m wrapped_exception\u001b[39m.\u001b[39mmessage \u001b[39mis\u001b[39;00m \u001b[39mnot\u001b[39;00m \u001b[39mNone\u001b[39;00m:\n\u001b[1;32m--> 270\u001b[0m     \u001b[39mraise\u001b[39;00m AzureDevOpsServiceError(wrapped_exception)\n\u001b[0;32m    271\u001b[0m \u001b[39melse\u001b[39;00m:\n\u001b[0;32m    272\u001b[0m     \u001b[39m# System exceptions from controllers are not returning wrapped exceptions.\u001b[39;00m\n\u001b[0;32m    273\u001b[0m     \u001b[39m# Following code is to handle this unusual exception json case.\u001b[39;00m\n\u001b[0;32m    274\u001b[0m     \u001b[39m# TODO: dig into this.\u001b[39;00m\n\u001b[0;32m    275\u001b[0m     collection_wrapper \u001b[39m=\u001b[39m \u001b[39mself\u001b[39m\u001b[39m.\u001b[39m_base_deserialize(\u001b[39m'\u001b[39m\u001b[39mVssJsonCollectionWrapper\u001b[39m\u001b[39m'\u001b[39m, response)\n",
      "\u001b[1;31mAzureDevOpsServiceError\u001b[0m: TF401232: Work item 1862 does not exist, or you do not have permissions to read it."
     ]
    }
   ],
   "source": [
    "# Define the connection parameters\n",
    "personal_access_token = 'hzakqwyey6gejkpooxbhkcbwp2jequiobwzzfyrtpqrxssd2thra'\n",
    "organization_name = 'lanteksms'\n",
    "project_name = 'Merlin'\n",
    "team_name = 'Merlin Team'\n",
    "\n",
    "from azure.devops.connection import Connection\n",
    "from msrest.authentication import BasicAuthentication\n",
    "\n",
    "# Create a connection object\n",
    "credentials = BasicAuthentication('', personal_access_token)\n",
    "organization_url = f'https://dev.azure.com/{organization_name}'\n",
    "connection = Connection(base_url=organization_url, creds=credentials)\n",
    "\n",
    "# Get the work item tracking client\n",
    "wit_client = connection.clients.get_work_item_tracking_client()\n",
    "\n",
    "# Define the list of work item IDs\n",
    "work_item_ids = [1862]\n",
    "\n",
    "# Get the work items\n",
    "work_items = wit_client.get_work_items(ids=work_item_ids)\n",
    "\n",
    "# Print the ID and title of each work item\n",
    "print(\"Work items:\")\n",
    "for work_item in work_items:\n",
    "    print(f\"- {work_item.id}: {work_item.fields['System.Title']}\")"
   ]
  },
  {
   "cell_type": "code",
   "execution_count": null,
   "id": "abd02ec8",
   "metadata": {},
   "outputs": [],
   "source": [
    "# Import the required modules\n",
    "import requests\n",
    "import json\n",
    "\n",
    "# Define the personal access token and organization URL\n",
    "personal_access_token = 'hzakqwyey6gejkpooxbhkcbwp2jequiobwzzfyrtpqrxssd2thra'\n",
    "organization_url = 'https://dev.azure.com/lanteksms'\n",
    "\n",
    "# Define the project name and the work item types to query\n",
    "project = 'Merlin'\n",
    "work_item_types = ['Epic', 'Feature', 'User Story']\n",
    "\n",
    "# Define the query parameters\n",
    "query_params = {\n",
    "    'api-version': '7.1',\n",
    "    'query': f\"Select [System.Id], [System.Title], [System.WorkItemType], [System.State] From WorkItems Where [System.TeamProject] = '{project}' And [System.WorkItemType] In ({', '.join(work_item_types)}) And [System.State] <> 'Closed' order by [System.ChangedDate] desc\"\n",
    "}\n",
    "\n",
    "# Create the request header with the authorization token\n",
    "request_header = {\n",
    "    'Authorization': f'Basic {personal_access_token}',\n",
    "    'Content-Type': 'application/json'\n",
    "}\n",
    "\n",
    "# Send the request to the Azure DevOps REST API\n",
    "response = requests.post(f'{organization_url}/_apis/wit/wiql?api-version=7.1', headers=request_header, data=json.dumps(query_params))\n",
    "\n",
    "# Check if the response is successful\n",
    "if response.status_code == 200:\n",
    "    # Parse the response as JSON\n",
    "    response_data = response.json()\n",
    "\n",
    "    # Get the work item IDs from the response\n",
    "    work_item_ids = [item['id'] for item in response_data['workItems']]\n",
    "\n",
    "    # Print the number of work items found\n",
    "    print(f'Found {len(work_item_ids)} work items in the backlog of {project} project.')\n",
    "\n",
    "    # If there are any work item IDs, get their details\n",
    "    if work_item_ids:\n",
    "        # Create a comma-separated list of work item IDs\n",
    "        work_item_ids_str = ','.join(map(str, work_item_ids))\n",
    "\n",
    "        # Send another request to get the work item details\n",
    "        response = requests.get(f'{organization_url}/_apis/wit/workitems?ids={work_item_ids_str}&$expand=relations&api-version=7.1', headers=request_header)\n",
    "\n",
    "        # Check if the response is successful\n",
    "        if response.status_code == 200:\n",
    "            # Parse the response as JSON\n",
    "            response_data = response.json()\n",
    "\n",
    "            # Loop through the work items in the response\n",
    "            for work_item in response_data['value']:\n",
    "                # Get the work item ID, title, type, and state\n",
    "                work_item_id = work_item['id']\n",
    "                work_item_title = work_item['fields']['System.Title']\n",
    "                work_item_type = work_item['fields']['System.WorkItemType']\n",
    "                work_item_state = work_item['fields']['System.State']\n",
    "\n",
    "                # Print the work item details\n",
    "                print(f'Work item {work_item_id}: {work_item_title} ({work_item_type}, {work_item_state})')\n",
    "\n",
    "                # If the work item has any relations, print them as well\n",
    "                if 'relations' in work_item:\n",
    "                    print('Related work items:')\n",
    "                    for relation in work_item['relations']:\n",
    "                        # Get the relation type and URL\n",
    "                        relation_type = relation['rel']\n",
    "                        relation_url = relation['url']\n",
    "\n",
    "                        # Extract the related work item ID from the URL\n",
    "                        related_work_item_id = relation_url.split('/')[-1]\n",
    "\n",
    "                        # Print the relation details\n",
    "                        print(f'- {relation_type}: {related_work_item_id}')\n",
    "else:\n",
    "    # Print the error message if the response is not successful\n",
    "    print(f'Error: {response.reason}')\n"
   ]
  }
 ],
 "metadata": {
  "kernelspec": {
   "display_name": "BU_env",
   "language": "python",
   "name": "python3"
  },
  "language_info": {
   "codemirror_mode": {
    "name": "ipython",
    "version": 3
   },
   "file_extension": ".py",
   "mimetype": "text/x-python",
   "name": "python",
   "nbconvert_exporter": "python",
   "pygments_lexer": "ipython3",
   "version": "3.8.13"
  }
 },
 "nbformat": 4,
 "nbformat_minor": 5
}
