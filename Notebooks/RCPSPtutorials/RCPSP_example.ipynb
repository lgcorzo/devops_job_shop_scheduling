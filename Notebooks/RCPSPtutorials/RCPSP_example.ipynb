{
 "cells": [
  {
   "cell_type": "code",
   "execution_count": null,
   "id": "0eb2dfbd",
   "metadata": {},
   "outputs": [],
   "source": [
    "import os\n",
    "workingDirInit = os.getcwd()\n",
    "workingDir = workingDirInit\n",
    "parentDir = ((os.path.dirname(os.path.dirname(os.path.abspath(''))))) # ../../../\n",
    "print('working dir ' + workingDir)\n",
    "print('path dir ' + parentDir)"
   ]
  },
  {
   "cell_type": "code",
   "execution_count": null,
   "id": "a703acb5",
   "metadata": {},
   "outputs": [],
   "source": [
    "import sys\n",
    "sys.path\n",
    "sys.path.append(parentDir)\n",
    "print(sys.path)"
   ]
  },
  {
   "cell_type": "code",
   "execution_count": null,
   "id": "5e27cdd8",
   "metadata": {},
   "outputs": [],
   "source": [
    "import matplotlib.pyplot as plt\n",
    "plt.rcParams['svg.fonttype'] = 'none'"
   ]
  },
  {
   "cell_type": "code",
   "execution_count": null,
   "id": "cbae7a02",
   "metadata": {},
   "outputs": [],
   "source": [
    "# %run -i \"rcpsp_calendar_examples.py\"\n",
    "import logging\n",
    "import os\n",
    "import glob\n",
    "import time\n",
    "import nest_asyncio\n",
    "from skdecide import rollout_episode\n",
    "\n",
    "from Code.rcpsp_calendar import parse_file\n",
    "from Code.rcpsp_calendar_utils import (plot_resource_individual_gantt,\n",
    "                                       plot_ressource_view, plot_task_gantt,\n",
    "                                       save_task_gantt_resolution)\n",
    "from Code.rcpsp_datasets import get_complete_path\n",
    "\n",
    "from discrete_optimization.generic_tools.ea.ga import (\n",
    "    DeapCrossover,\n",
    "    DeapMutation,\n",
    "    Ga,\n",
    "    ObjectiveHandling,\n",
    ")\n",
    "\n",
    "\n",
    "nest_asyncio.apply()\n",
    "\n",
    "\n",
    "logging.basicConfig(level=logging.INFO)\n",
    "\n",
    "fig1 =None\n",
    "fig2 =None\n",
    "fig3 =None"
   ]
  },
  {
   "cell_type": "code",
   "execution_count": null,
   "id": "ebfc7b2d",
   "metadata": {},
   "outputs": [],
   "source": [
    "# def do_singlemode_ga_calendar(file_name):\n",
    "#     global fig1, fig2, fig3\n",
    "file_name = \"j301_1_calendar.sm\"\n",
    "problem = parse_file(get_complete_path(file_name))\n",
    "\n",
    "mutation = DeapMutation.MUT_SHUFFLE_INDEXES\n",
    "crossover = DeapCrossover.CX_UNIFORM_PARTIALY_MATCHED\n",
    "ga_solver = Ga(\n",
    "    problem,\n",
    "    encoding=\"rcpsp_permutation\",\n",
    "    objective_handling=ObjectiveHandling.AGGREGATE,\n",
    "    objectives=[\"makespan\"],\n",
    "    objective_weights=[-1],\n",
    "    pop_size=50,\n",
    "    max_evals=300,\n",
    "    mut_rate=0.1,\n",
    "    crossover_rate=0.9,\n",
    "    crossover=crossover,\n",
    "    mutation=mutation,\n",
    ")\n",
    "results_ga = ga_solver.solve()\n",
    "solution = results_ga.get_best_solution_fit()\n",
    "solution_gantt_df = save_task_gantt_resolution(problem, solution[0])\n",
    "print(solution_gantt_df)\n"
   ]
  },
  {
   "cell_type": "code",
   "execution_count": null,
   "id": "95769929",
   "metadata": {},
   "outputs": [],
   "source": [
    "%matplotlib notebook\n",
    "import matplotlib.pyplot as plt"
   ]
  },
  {
   "cell_type": "code",
   "execution_count": null,
   "id": "ccbdf717",
   "metadata": {
    "scrolled": false
   },
   "outputs": [],
   "source": [
    "%matplotlib notebook\n",
    "fig1 = plot_task_gantt(problem, solution[0], title=file_name, fig=fig1)"
   ]
  },
  {
   "cell_type": "code",
   "execution_count": null,
   "id": "d274ff46",
   "metadata": {
    "scrolled": false
   },
   "outputs": [],
   "source": [
    "%matplotlib notebook\n",
    "# Create the figure and axis\n",
    "fig2 = plot_ressource_view(problem, solution[0],\n",
    "                           title_figure=file_name,\n",
    "                           fig=fig2)\n"
   ]
  },
  {
   "cell_type": "code",
   "execution_count": null,
   "id": "4af439c3",
   "metadata": {
    "scrolled": false
   },
   "outputs": [],
   "source": [
    "%matplotlib notebook\n",
    "fig3 = plot_resource_individual_gantt(problem, solution[0],\n",
    "                                      title_figure=file_name,\n",
    "                                      fig=fig3)\n"
   ]
  },
  {
   "cell_type": "code",
   "execution_count": null,
   "id": "7b4f7abd",
   "metadata": {},
   "outputs": [],
   "source": [
    "fig3.savefig(\"filepath.svg\", format = 'svg', dpi=3000)"
   ]
  },
  {
   "cell_type": "markdown",
   "id": "ea4ad038",
   "metadata": {},
   "source": [
    "## Read the backlog\n",
    "https://github.com/microsoft/azure-devops-python-api"
   ]
  },
  {
   "cell_type": "code",
   "execution_count": null,
   "id": "b75fc58d",
   "metadata": {},
   "outputs": [],
   "source": [
    "! pip install azure-devops"
   ]
  },
  {
   "cell_type": "code",
   "execution_count": null,
   "id": "bbbaf6cb",
   "metadata": {},
   "outputs": [],
   "source": [
    "from azure.devops.connection import Connection\n",
    "from msrest.authentication import BasicAuthentication\n",
    "import pprint\n",
    "\n",
    "# Fill in with your personal access token and org URL\n",
    "personal_access_token = '--------'\n",
    "organization_url = '------'\n",
    "\n",
    "# Create a connection to the org\n",
    "credentials = BasicAuthentication('', personal_access_token)\n",
    "connection = Connection(base_url=organization_url, creds=credentials)\n",
    "\n",
    "# Get a client (the \"core\" client provides access to projects, teams, etc)\n",
    "core_client = connection.clients.get_core_client()\n",
    "\n",
    "# Get the first page of projects\n",
    "get_projects_response = core_client.get_projects()\n",
    "print(get_projects_response)\n",
    "index = 0\n",
    "while get_projects_response is not None:\n",
    "    for project in get_projects_response:\n",
    "        pprint.pprint(\"[\" + str(index) + \"] \" + project.name)\n",
    "        index += 1\n",
    "    if get_projects_response.continuation_token is not None and get_projects_response.continuation_token != \"\":\n",
    "        # Get the next page of projects\n",
    "        get_projects_response = core_client.get_projects(continuation_token=get_projects_response.continuation_token)\n",
    "    else:\n",
    "        # All projects have been retrieved\n",
    "        get_projects_response = None"
   ]
  },
  {
   "cell_type": "code",
   "execution_count": null,
   "id": "8b54fbad",
   "metadata": {},
   "outputs": [],
   "source": [
    "# Define the connection parameters\n",
    "personal_access_token = 'hzakqwyey6gejkpooxbhkcbwp2jequiobwzzfyrtpqrxssd2thra'\n",
    "organization_name = 'lanteksms'\n",
    "project_name = 'Merlin'\n",
    "team_name = 'Merlin Team'\n",
    "\n",
    "from azure.devops.connection import Connection\n",
    "from msrest.authentication import BasicAuthentication\n",
    "\n",
    "# Create a connection object\n",
    "credentials = BasicAuthentication('', personal_access_token)\n",
    "organization_url = f'https://dev.azure.com/{organization_name}'\n",
    "connection = Connection(base_url=organization_url, creds=credentials)\n",
    "\n",
    "# Get the work item tracking client\n",
    "wit_client = connection.clients.get_work_item_tracking_client()\n",
    "\n",
    "# Define the list of work item IDs\n",
    "work_item_ids = [1862]\n",
    "\n",
    "# Get the work items\n",
    "work_items = wit_client.get_work_items(ids=work_item_ids)\n",
    "\n",
    "# Print the ID and title of each work item\n",
    "print(\"Work items:\")\n",
    "for work_item in work_items:\n",
    "    print(f\"- {work_item.id}: {work_item.fields['System.Title']}\")"
   ]
  },
  {
   "cell_type": "code",
   "execution_count": null,
   "id": "abd02ec8",
   "metadata": {},
   "outputs": [],
   "source": [
    "# Import the required modules\n",
    "import requests\n",
    "import json\n",
    "\n",
    "# Define the personal access token and organization URL\n",
    "personal_access_token = 'hzakqwyey6gejkpooxbhkcbwp2jequiobwzzfyrtpqrxssd2thra'\n",
    "organization_url = 'https://dev.azure.com/lanteksms'\n",
    "\n",
    "# Define the project name and the work item types to query\n",
    "project = 'Merlin'\n",
    "work_item_types = ['Epic', 'Feature', 'User Story']\n",
    "\n",
    "# Define the query parameters\n",
    "query_params = {\n",
    "    'api-version': '7.1',\n",
    "    'query': f\"Select [System.Id], [System.Title], [System.WorkItemType], [System.State] From WorkItems Where [System.TeamProject] = '{project}' And [System.WorkItemType] In ({', '.join(work_item_types)}) And [System.State] <> 'Closed' order by [System.ChangedDate] desc\"\n",
    "}\n",
    "\n",
    "# Create the request header with the authorization token\n",
    "request_header = {\n",
    "    'Authorization': f'Basic {personal_access_token}',\n",
    "    'Content-Type': 'application/json'\n",
    "}\n",
    "\n",
    "# Send the request to the Azure DevOps REST API\n",
    "response = requests.post(f'{organization_url}/_apis/wit/wiql?api-version=7.1', headers=request_header, data=json.dumps(query_params))\n",
    "\n",
    "# Check if the response is successful\n",
    "if response.status_code == 200:\n",
    "    # Parse the response as JSON\n",
    "    response_data = response.json()\n",
    "\n",
    "    # Get the work item IDs from the response\n",
    "    work_item_ids = [item['id'] for item in response_data['workItems']]\n",
    "\n",
    "    # Print the number of work items found\n",
    "    print(f'Found {len(work_item_ids)} work items in the backlog of {project} project.')\n",
    "\n",
    "    # If there are any work item IDs, get their details\n",
    "    if work_item_ids:\n",
    "        # Create a comma-separated list of work item IDs\n",
    "        work_item_ids_str = ','.join(map(str, work_item_ids))\n",
    "\n",
    "        # Send another request to get the work item details\n",
    "        response = requests.get(f'{organization_url}/_apis/wit/workitems?ids={work_item_ids_str}&$expand=relations&api-version=7.1', headers=request_header)\n",
    "\n",
    "        # Check if the response is successful\n",
    "        if response.status_code == 200:\n",
    "            # Parse the response as JSON\n",
    "            response_data = response.json()\n",
    "\n",
    "            # Loop through the work items in the response\n",
    "            for work_item in response_data['value']:\n",
    "                # Get the work item ID, title, type, and state\n",
    "                work_item_id = work_item['id']\n",
    "                work_item_title = work_item['fields']['System.Title']\n",
    "                work_item_type = work_item['fields']['System.WorkItemType']\n",
    "                work_item_state = work_item['fields']['System.State']\n",
    "\n",
    "                # Print the work item details\n",
    "                print(f'Work item {work_item_id}: {work_item_title} ({work_item_type}, {work_item_state})')\n",
    "\n",
    "                # If the work item has any relations, print them as well\n",
    "                if 'relations' in work_item:\n",
    "                    print('Related work items:')\n",
    "                    for relation in work_item['relations']:\n",
    "                        # Get the relation type and URL\n",
    "                        relation_type = relation['rel']\n",
    "                        relation_url = relation['url']\n",
    "\n",
    "                        # Extract the related work item ID from the URL\n",
    "                        related_work_item_id = relation_url.split('/')[-1]\n",
    "\n",
    "                        # Print the relation details\n",
    "                        print(f'- {relation_type}: {related_work_item_id}')\n",
    "else:\n",
    "    # Print the error message if the response is not successful\n",
    "    print(f'Error: {response.reason}')\n"
   ]
  }
 ],
 "metadata": {
  "kernelspec": {
   "display_name": "BU_env",
   "language": "python",
   "name": "python3"
  },
  "language_info": {
   "codemirror_mode": {
    "name": "ipython",
    "version": 3
   },
   "file_extension": ".py",
   "mimetype": "text/x-python",
   "name": "python",
   "nbconvert_exporter": "python",
   "pygments_lexer": "ipython3",
   "version": "3.8.13"
  }
 },
 "nbformat": 4,
 "nbformat_minor": 5
}
